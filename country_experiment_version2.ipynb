{
 "cells": [
  {
   "cell_type": "markdown",
   "id": "2b2c72cd-779e-4ce8-b8c9-0a5fcc3ef80f",
   "metadata": {},
   "source": [
    "# Make the code reusable"
   ]
  },
  {
   "cell_type": "code",
   "execution_count": 3,
   "id": "a2abb863-7acf-4565-ae94-5d0b468fed25",
   "metadata": {},
   "outputs": [
    {
     "data": {
      "text/plain": [
       "DataFrame[name: string, region: string, capital: string, currency: array<string>, borders: array<string>]"
      ]
     },
     "execution_count": 3,
     "metadata": {},
     "output_type": "execute_result"
    }
   ],
   "source": [
    "from pyspark.sql.functions import explode,explode_outer\n",
    "from pyspark.sql.types import StructType\n",
    "import requests, json\n",
    "# Import SparkSession\n",
    "from pyspark.sql import SparkSession\n",
    "from pyspark.sql.functions import explode,col,lit\n",
    "import pyspark.sql.functions as F\n",
    "from pyspark.sql.types import ArrayType, StringType\n",
    "\n",
    "# Create SparkSession \n",
    "spark = SparkSession.builder \\\n",
    "      .master(\"local[1]\") \\\n",
    "      .appName(\"SparkByExamples.com\") \\\n",
    "      .getOrCreate()\n",
    "# Make a request to get information about: \"Bulgaria\", \"Germany\", \"Italy\", \"Peru\"\n",
    "# Parse the response as JSON\n",
    "\n",
    "def getCountryData(country):\n",
    "    response = requests.get(f\"https://restcountries.com/v3.1/name/{country}\")\n",
    "    return response.json();\n",
    "\n",
    "\n",
    "def getCountryName(country):\n",
    "    response = requests.get(f\"https://restcountries.com/v3.1/alpha/{country}\")\n",
    "    # Parse the response as JSON\n",
    "    data = response.json()\n",
    "    return data[0]['name']['common'];\n",
    "\n",
    "def extractCurrencyName(df):\n",
    "    df = df.select(explode(col(\"currencies\")))\n",
    "    return df.select('value.name').rdd.flatMap(lambda x: x).collect();\n",
    "\n",
    "def prepareDataFrame(country_data):\n",
    "    df = spark.createDataFrame(country_data)\n",
    "    currency_name = extractCurrencyName(df)\n",
    "    if \"borders\" in df.columns:\n",
    "        df = df.select(col(\"name.common\").alias(\"name\"),\"region\",\"capital\",\"borders\")\n",
    "        df = df.withColumn(\"borders\" , explode_outer(col(\"borders\")))\n",
    "        custom_getCountryName = F.udf(getCountryName, StringType())\n",
    "        df = df.withColumn('borders', custom_getCountryName(df.borders))\n",
    "    else:\n",
    "        df = df.select(col(\"name.common\").alias(\"name\"),\"region\",\"capital\")\n",
    "    df = df.withColumn(\"capital\" , explode(\"capital\"))\n",
    "    df = df.withColumn(\"currency\" , lit(currency_name))\n",
    " \n",
    "    if \"borders\" in df.columns:\n",
    "        return df.groupby(\"name\",\"region\",\"capital\",\"currency\").agg(F.collect_set(\"borders\").alias(\"borders\"));\n",
    "    else:\n",
    "        return df;\n",
    "\n",
    "def showCountryData(country_list):\n",
    "    df = None\n",
    "    for country in country_list:\n",
    "        country_data = getCountryData(country)\n",
    "        country_df = prepareDataFrame(country_data)\n",
    "        if df is None:\n",
    "            df = country_df\n",
    "        else:\n",
    "            df = df.unionByName(country_df, allowMissingColumns=True)\n",
    "    return df;\n",
    "\n",
    "\n",
    "country_list = [\"Cuba\",\"Bulgaria\", \"Germany\", \"Italy\", \"Peru\"]\n",
    "showCountryData(country_list)"
   ]
  },
  {
   "cell_type": "code",
   "execution_count": 4,
   "id": "bd7d374d-7d29-4cd8-8d4f-e64ebb6177dc",
   "metadata": {},
   "outputs": [
    {
     "data": {
      "text/plain": [
       "DataFrame[name: string, subregion: string, languages: array<string>, flag: string, population: bigint, fifa: string, timezones: string, png: string]"
      ]
     },
     "execution_count": 4,
     "metadata": {},
     "output_type": "execute_result"
    }
   ],
   "source": [
    "from functools import reduce\n",
    "from pyspark.sql import DataFrame\n",
    "\n",
    "def getAdditionalCountryData(country):\n",
    "    response = requests.get(f\"https://restcountries.com/v3.1/alpha/{country}\")\n",
    "    res_json = response.json()\n",
    "    additionalInfo = spark.createDataFrame(res_json)\n",
    "    return additionalInfo.select(col(\"name.common\").alias(\"name\"),\"subregion\",\"languages\",\"flag\",\"population\",\"fifa\",\"timezones\",col(\"flags.png\").alias(\"png\"));\n",
    "\n",
    "def getCountryCode(country):\n",
    "    response = requests.get(f\"https://restcountries.com/v3.1/name/{country}\")\n",
    "    # Parse the response as JSON\n",
    "    data = response.json()\n",
    "    return data[0]['cioc'];\n",
    "    \n",
    "def extractLanguages(df):\n",
    "    df = df.select(explode(col(\"languages\")))\n",
    "    return df.select('value').rdd.flatMap(lambda x: x).collect();\n",
    "    \n",
    "def extractOnlyNeededValues(additionalInfo):\n",
    "    language = extractLanguages(additionalInfo)\n",
    "    additionalInfo = additionalInfo.withColumn(\"languages\" , lit(language))\n",
    "    additionalInfo = additionalInfo.withColumn(\"timezones\" , explode(col(\"timezones\")))\n",
    "    return additionalInfo;\n",
    "\n",
    "def showAdditionalCountryData(country_list):\n",
    "    dfs = []\n",
    "    for country in country_list:\n",
    "        country_name = getCountryCode(country)\n",
    "        country_data = getAdditionalCountryData(country_name)\n",
    "        country_df = extractOnlyNeededValues(country_data)\n",
    "        dfs.append(country_df)\n",
    "    df_additional = reduce(DataFrame.union,dfs)\n",
    "    return df_additional;\n",
    "\n",
    "showAdditionalCountryData(country_list)"
   ]
  },
  {
   "cell_type": "code",
   "execution_count": 5,
   "id": "491df4b8-8d67-4882-8521-0b835d80a49a",
   "metadata": {},
   "outputs": [
    {
     "name": "stdout",
     "output_type": "stream",
     "text": [
      "+--------+--------+-------+--------------------+--------------------+----------------+--------------------+----+----------+----+---------+--------------------+\n",
      "|    name|  region|capital|            currency|             borders|       subregion|           languages|flag|population|fifa|timezones|                 png|\n",
      "+--------+--------+-------+--------------------+--------------------+----------------+--------------------+----+----------+----+---------+--------------------+\n",
      "|Bulgaria|  Europe|  Sofia|     [Bulgarian lev]|[North Macedonia,...|Southeast Europe|         [Bulgarian]|🇧🇬|   6927288| BUL|UTC+02:00|https://flagcdn.c...|\n",
      "|    Cuba|Americas| Havana|[Cuban convertibl...|                null|       Caribbean|           [Spanish]|🇨🇺|  11326616| CUB|UTC-05:00|https://flagcdn.c...|\n",
      "| Germany|  Europe| Berlin|              [Euro]|[France, Austria,...|  Western Europe|            [German]|🇩🇪|  83240525| GER|UTC+01:00|https://flagcdn.c...|\n",
      "|   Italy|  Europe|   Rome|              [Euro]|[France, Austria,...| Southern Europe|           [Italian]|🇮🇹|  59554023| ITA|UTC+01:00|https://flagcdn.c...|\n",
      "|    Peru|Americas|   Lima|      [Peruvian sol]|[Bolivia, Brazil,...|   South America|[Quechua, Aymara,...|🇵🇪|  32971846| PER|UTC-05:00|https://flagcdn.c...|\n",
      "+--------+--------+-------+--------------------+--------------------+----------------+--------------------+----+----------+----+---------+--------------------+\n",
      "\n"
     ]
    }
   ],
   "source": [
    "main_data = showCountryData(country_list)\n",
    "additional_data = showAdditionalCountryData(country_list)\n",
    "full_data = main_data.join(additional_data,main_data[\"name\"] == additional_data[\"name\"]).drop(additional_data[\"name\"])\n",
    "full_data.show()"
   ]
  },
  {
   "cell_type": "code",
   "execution_count": 7,
   "id": "861d5da4-8ff8-4e2f-a6fc-e1efb3e2c4a7",
   "metadata": {},
   "outputs": [],
   "source": [
    "#write the whole data to a file\n",
    "json_rdd = full_data.rdd.map(lambda row: json.dumps(row.asDict()))\n",
    "json_rdd.saveAsTextFile(\"output.json\")"
   ]
  }
 ],
 "metadata": {
  "kernelspec": {
   "display_name": "Python 3",
   "language": "python",
   "name": "python3"
  },
  "language_info": {
   "codemirror_mode": {
    "name": "ipython",
    "version": 3
   },
   "file_extension": ".py",
   "mimetype": "text/x-python",
   "name": "python",
   "nbconvert_exporter": "python",
   "pygments_lexer": "ipython3",
   "version": "3.8.8"
  }
 },
 "nbformat": 4,
 "nbformat_minor": 5
}
