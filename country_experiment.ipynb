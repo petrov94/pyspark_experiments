{
 "cells": [
  {
   "cell_type": "code",
   "execution_count": 1,
   "id": "f9c88bd7-3cb9-4a0a-8e7d-b8cac3ef652e",
   "metadata": {},
   "outputs": [],
   "source": [
    "# !pip install pyspark"
   ]
  },
  {
   "cell_type": "code",
   "execution_count": 2,
   "id": "34fb6043-6ee1-4eed-a1e6-b0b2e761dd64",
   "metadata": {},
   "outputs": [],
   "source": [
    "# !pip install --upgrade pip"
   ]
  },
  {
   "cell_type": "code",
   "execution_count": 3,
   "id": "f1415dc0-11d8-4a5c-b3d2-56b96e66b6de",
   "metadata": {},
   "outputs": [],
   "source": [
    "# Import SparkSession\n",
    "from pyspark.sql import SparkSession\n",
    "from pyspark.sql.functions import explode,col,lit\n",
    "\n",
    "# Create SparkSession \n",
    "spark = SparkSession.builder \\\n",
    "      .master(\"local[1]\") \\\n",
    "      .appName(\"SparkByExamples.com\") \\\n",
    "      .getOrCreate()"
   ]
  },
  {
   "cell_type": "code",
   "execution_count": 4,
   "id": "30a19a1c-9bcd-4819-b2b5-0ff39ed706e2",
   "metadata": {},
   "outputs": [],
   "source": [
    "dataList = [(\"Java\", 20000), (\"Python\", 100000), (\"Scala\", 3000)]\n",
    "rdd=spark.sparkContext.parallelize(dataList)"
   ]
  },
  {
   "cell_type": "code",
   "execution_count": 5,
   "id": "29073c12-fd71-4cca-a967-2809de85966b",
   "metadata": {},
   "outputs": [],
   "source": [
    "data = [('James','','Smith','1991-04-01','M',3000),\n",
    "  ('Michael','Rose','','2000-05-19','M',4000),\n",
    "  ('Robert','','Williams','1978-09-05','M',4000),\n",
    "  ('Maria','Anne','Jones','1967-12-01','F',4000),\n",
    "  ('Jen','Mary','Brown','1980-02-17','F',-1)\n",
    "]\n",
    "\n",
    "columns = [\"firstname\",\"middlename\",\"lastname\",\"dob\",\"gender\",\"salary\"]\n",
    "df = spark.createDataFrame(data=data, schema = columns)"
   ]
  },
  {
   "cell_type": "code",
   "execution_count": 6,
   "id": "0a5271bf-7a1f-43b5-b55a-62c01371afe5",
   "metadata": {},
   "outputs": [
    {
     "name": "stdout",
     "output_type": "stream",
     "text": [
      "+---------+----------+--------+----------+------+------+\n",
      "|firstname|middlename|lastname|       dob|gender|salary|\n",
      "+---------+----------+--------+----------+------+------+\n",
      "|    James|          |   Smith|1991-04-01|     M|  3000|\n",
      "|  Michael|      Rose|        |2000-05-19|     M|  4000|\n",
      "|   Robert|          |Williams|1978-09-05|     M|  4000|\n",
      "|    Maria|      Anne|   Jones|1967-12-01|     F|  4000|\n",
      "|      Jen|      Mary|   Brown|1980-02-17|     F|    -1|\n",
      "+---------+----------+--------+----------+------+------+\n",
      "\n"
     ]
    }
   ],
   "source": [
    "df.show()"
   ]
  },
  {
   "cell_type": "code",
   "execution_count": 7,
   "id": "5f089467-96ea-4c5a-a352-37dec1d20b56",
   "metadata": {},
   "outputs": [],
   "source": [
    "import requests, json\n",
    "def read_api():\n",
    "    url = \"https://bloomberg-market-and-financial-news.p.rapidapi.com/news/list\"\n",
    "    querystring = {\"id\":\"markets\"}\n",
    "    headers = {\n",
    "        \"X-RapidAPI-Key\": \"15e779e164msha744913e50e0e28p1ebf46jsnd545e128dbd9\",\n",
    "        \"X-RapidAPI-Host\": \"bloomberg-market-and-financial-news.p.rapidapi.com\"\n",
    "    }\n",
    "    normalized_data = dict()\n",
    "    data = requests.get(url, headers=headers, params=querystring).json() \n",
    "    normalized_data[\"_data\"] = data # Normalize payload to handle array situtations\n",
    "    return json.dumps(normalized_data)"
   ]
  },
  {
   "cell_type": "code",
   "execution_count": 8,
   "id": "7e84a2f0",
   "metadata": {},
   "outputs": [],
   "source": [
    "import requests, json\n",
    "def read_api_2():\n",
    "    url = \"https://jsonplaceholder.typicode.com/posts\"\n",
    "    data = requests.get(url).json() \n",
    "    return json.dumps(data)"
   ]
  },
  {
   "cell_type": "code",
   "execution_count": 9,
   "id": "0a77e3a2-2d40-44d2-b8f9-8e447f101cd1",
   "metadata": {},
   "outputs": [],
   "source": [
    "# Read data into Data Frame\n",
    "# Create payload rdd\n",
    "payload = read_api_2()\n",
    "with open(\"response.json\", \"w\") as outfile:\n",
    "    outfile.write(payload)"
   ]
  },
  {
   "cell_type": "code",
   "execution_count": 10,
   "id": "86e48cdc-7094-4ec6-b9f3-371816688c91",
   "metadata": {},
   "outputs": [
    {
     "name": "stdout",
     "output_type": "stream",
     "text": [
      "root\n",
      " |-- body: string (nullable = true)\n",
      " |-- id: long (nullable = true)\n",
      " |-- title: string (nullable = true)\n",
      " |-- userId: long (nullable = true)\n",
      "\n",
      "+--------------------+---+--------------------+------+\n",
      "|                body| id|               title|userId|\n",
      "+--------------------+---+--------------------+------+\n",
      "|quia et suscipit\\...|  1|sunt aut facere r...|     1|\n",
      "|est rerum tempore...|  2|        qui est esse|     1|\n",
      "|et iusto sed quo ...|  3|ea molestias quas...|     1|\n",
      "|ullam et saepe re...|  4|eum et est occaecati|     1|\n",
      "|repudiandae venia...|  5|  nesciunt quas odio|     1|\n",
      "|ut aspernatur cor...|  6|dolorem eum magni...|     1|\n",
      "|dolore placeat qu...|  7|magnam facilis autem|     1|\n",
      "|dignissimos aperi...|  8|dolorem dolore es...|     1|\n",
      "|consectetur animi...|  9|nesciunt iure omn...|     1|\n",
      "|quo et expedita m...| 10|optio molestias i...|     1|\n",
      "|delectus reiciend...| 11|et ea vero quia l...|     2|\n",
      "|itaque id aut mag...| 12|in quibusdam temp...|     2|\n",
      "|aut dicta possimu...| 13|dolorum ut in vol...|     2|\n",
      "|fuga et accusamus...| 14|voluptatem eligen...|     2|\n",
      "|reprehenderit quo...| 15|eveniet quod temp...|     2|\n",
      "|suscipit nam nisi...| 16|sint suscipit per...|     2|\n",
      "|eos voluptas et a...| 17|fugit voluptas se...|     2|\n",
      "|eveniet quo quis\\...| 18|voluptate et itaq...|     2|\n",
      "|illum quis cupidi...| 19|adipisci placeat ...|     2|\n",
      "|qui consequuntur ...| 20|doloribus ad prov...|     2|\n",
      "+--------------------+---+--------------------+------+\n",
      "only showing top 20 rows\n",
      "\n"
     ]
    }
   ],
   "source": [
    "df = spark.read.json(\"response.json\")\n",
    "df.printSchema()\n",
    "df.show()"
   ]
  },
  {
   "cell_type": "code",
   "execution_count": 11,
   "id": "9d573db6-bbf7-4f9c-ae46-fd59372c65e9",
   "metadata": {},
   "outputs": [
    {
     "name": "stdout",
     "output_type": "stream",
     "text": [
      "(100, 4)\n"
     ]
    }
   ],
   "source": [
    "print((df.count(), len(df.columns)))"
   ]
  },
  {
   "cell_type": "code",
   "execution_count": 12,
   "id": "bc628333-05e5-4742-8dd6-256cfb7bf128",
   "metadata": {},
   "outputs": [
    {
     "name": "stdout",
     "output_type": "stream",
     "text": [
      "root\n",
      " |-- body: string (nullable = true)\n",
      " |-- id: long (nullable = true)\n",
      " |-- title: string (nullable = true)\n",
      " |-- userId: long (nullable = true)\n",
      "\n"
     ]
    }
   ],
   "source": [
    "df.printSchema()"
   ]
  },
  {
   "cell_type": "code",
   "execution_count": 13,
   "id": "c20f160c-39c8-4e3b-98fb-615ec2b117f7",
   "metadata": {},
   "outputs": [
    {
     "data": {
      "text/plain": [
       "[Row(body='quia et suscipit\\nsuscipit recusandae consequuntur expedita et cum\\nreprehenderit molestiae ut ut quas totam\\nnostrum rerum est autem sunt rem eveniet architecto', id=1, title='sunt aut facere repellat provident occaecati excepturi optio reprehenderit', userId=1),\n",
       " Row(body='est rerum tempore vitae\\nsequi sint nihil reprehenderit dolor beatae ea dolores neque\\nfugiat blanditiis voluptate porro vel nihil molestiae ut reiciendis\\nqui aperiam non debitis possimus qui neque nisi nulla', id=2, title='qui est esse', userId=1),\n",
       " Row(body='et iusto sed quo iure\\nvoluptatem occaecati omnis eligendi aut ad\\nvoluptatem doloribus vel accusantium quis pariatur\\nmolestiae porro eius odio et labore et velit aut', id=3, title='ea molestias quasi exercitationem repellat qui ipsa sit aut', userId=1),\n",
       " Row(body='ullam et saepe reiciendis voluptatem adipisci\\nsit amet autem assumenda provident rerum culpa\\nquis hic commodi nesciunt rem tenetur doloremque ipsam iure\\nquis sunt voluptatem rerum illo velit', id=4, title='eum et est occaecati', userId=1),\n",
       " Row(body='repudiandae veniam quaerat sunt sed\\nalias aut fugiat sit autem sed est\\nvoluptatem omnis possimus esse voluptatibus quis\\nest aut tenetur dolor neque', id=5, title='nesciunt quas odio', userId=1)]"
      ]
     },
     "execution_count": 13,
     "metadata": {},
     "output_type": "execute_result"
    }
   ],
   "source": [
    "df.head(5)"
   ]
  },
  {
   "cell_type": "code",
   "execution_count": 14,
   "id": "7bea12dc",
   "metadata": {},
   "outputs": [
    {
     "name": "stdout",
     "output_type": "stream",
     "text": [
      "+------+\n",
      "|userid|\n",
      "+------+\n",
      "|     7|\n",
      "|     6|\n",
      "|     9|\n",
      "|     5|\n",
      "|     1|\n",
      "|    10|\n",
      "|     3|\n",
      "|     8|\n",
      "|     2|\n",
      "|     4|\n",
      "+------+\n",
      "\n"
     ]
    }
   ],
   "source": [
    "df.select('userid').distinct().show(100)"
   ]
  },
  {
   "cell_type": "code",
   "execution_count": 15,
   "id": "989a0ded",
   "metadata": {},
   "outputs": [
    {
     "data": {
      "text/plain": [
       "100"
      ]
     },
     "execution_count": 15,
     "metadata": {},
     "output_type": "execute_result"
    }
   ],
   "source": [
    "df.select('body').distinct().count()"
   ]
  },
  {
   "cell_type": "code",
   "execution_count": 16,
   "id": "82c05ce5",
   "metadata": {},
   "outputs": [
    {
     "name": "stdout",
     "output_type": "stream",
     "text": [
      "+---------+---+---+---+---+---+---+---+---+---+---+\n",
      "|id_userid|  1| 10|  2|  3|  4|  5|  6|  7|  8|  9|\n",
      "+---------+---+---+---+---+---+---+---+---+---+---+\n",
      "|        7|  1|  0|  0|  0|  0|  0|  0|  0|  0|  0|\n",
      "|       51|  0|  0|  0|  0|  0|  0|  1|  0|  0|  0|\n",
      "|       15|  0|  0|  1|  0|  0|  0|  0|  0|  0|  0|\n",
      "|       54|  0|  0|  0|  0|  0|  0|  1|  0|  0|  0|\n",
      "|       11|  0|  0|  1|  0|  0|  0|  0|  0|  0|  0|\n",
      "|       69|  0|  0|  0|  0|  0|  0|  0|  1|  0|  0|\n",
      "|       29|  0|  0|  0|  1|  0|  0|  0|  0|  0|  0|\n",
      "|       42|  0|  0|  0|  0|  0|  1|  0|  0|  0|  0|\n",
      "|       73|  0|  0|  0|  0|  0|  0|  0|  0|  1|  0|\n",
      "|       87|  0|  0|  0|  0|  0|  0|  0|  0|  0|  1|\n",
      "+---------+---+---+---+---+---+---+---+---+---+---+\n",
      "only showing top 10 rows\n",
      "\n"
     ]
    }
   ],
   "source": [
    "df.crosstab('id', 'userid').show(10)"
   ]
  },
  {
   "cell_type": "code",
   "execution_count": 17,
   "id": "59f30d7c",
   "metadata": {},
   "outputs": [
    {
     "data": {
      "text/plain": [
       "50"
      ]
     },
     "execution_count": 17,
     "metadata": {},
     "output_type": "execute_result"
    }
   ],
   "source": [
    "df.filter(df.userId > 5).count()"
   ]
  },
  {
   "cell_type": "code",
   "execution_count": 18,
   "id": "95a4f5c1",
   "metadata": {},
   "outputs": [
    {
     "data": {
      "text/plain": [
       "['body', 'id', 'title', 'userId']"
      ]
     },
     "execution_count": 18,
     "metadata": {},
     "output_type": "execute_result"
    }
   ],
   "source": [
    "df.columns"
   ]
  },
  {
   "cell_type": "markdown",
   "id": "1e7ccc2e-3d4c-4636-ae0b-c9e9ab6ab3e6",
   "metadata": {},
   "source": [
    "# Countries task"
   ]
  },
  {
   "cell_type": "code",
   "execution_count": 19,
   "id": "d3cd6bd6-299f-466c-b25a-3c19781775da",
   "metadata": {},
   "outputs": [
    {
     "data": {
      "text/plain": [
       "[{'name': {'common': 'Bulgaria',\n",
       "   'official': 'Republic of Bulgaria',\n",
       "   'nativeName': {'bul': {'official': 'Република България',\n",
       "     'common': 'България'}}},\n",
       "  'tld': ['.bg'],\n",
       "  'cca2': 'BG',\n",
       "  'ccn3': '100',\n",
       "  'cca3': 'BGR',\n",
       "  'cioc': 'BUL',\n",
       "  'independent': True,\n",
       "  'status': 'officially-assigned',\n",
       "  'unMember': True,\n",
       "  'currencies': {'BGN': {'name': 'Bulgarian lev', 'symbol': 'лв'}},\n",
       "  'idd': {'root': '+3', 'suffixes': ['59']},\n",
       "  'capital': ['Sofia'],\n",
       "  'altSpellings': ['BG', 'Republic of Bulgaria', 'Република България'],\n",
       "  'region': 'Europe',\n",
       "  'subregion': 'Southeast Europe',\n",
       "  'languages': {'bul': 'Bulgarian'},\n",
       "  'translations': {'ara': {'official': 'جمهورية بلغاريا', 'common': 'بلغاريا'},\n",
       "   'bre': {'official': 'Republik Bulgaria', 'common': 'Bulgaria'},\n",
       "   'ces': {'official': 'Bulharská republika', 'common': 'Bulharsko'},\n",
       "   'cym': {'official': 'Gweriniaeth Bwlgaria', 'common': 'Bwlgaria'},\n",
       "   'deu': {'official': 'Republik Bulgarien', 'common': 'Bulgarien'},\n",
       "   'est': {'official': 'Bulgaaria Vabariik', 'common': 'Bulgaaria'},\n",
       "   'fin': {'official': 'Bulgarian tasavalta', 'common': 'Bulgaria'},\n",
       "   'fra': {'official': 'République de Bulgarie', 'common': 'Bulgarie'},\n",
       "   'hrv': {'official': 'Republika Bugarska', 'common': 'Bugarska'},\n",
       "   'hun': {'official': 'Bolgár Köztársaság', 'common': 'Bulgária'},\n",
       "   'ita': {'official': 'Repubblica di Bulgaria', 'common': 'Bulgaria'},\n",
       "   'jpn': {'official': 'ブルガリア共和国', 'common': 'ブルガリア'},\n",
       "   'kor': {'official': '불가리아 공화국', 'common': '불가리아'},\n",
       "   'nld': {'official': 'Republiek Bulgarije', 'common': 'Bulgarije'},\n",
       "   'per': {'official': 'جمهوری بلغارستان', 'common': 'بلغارستان'},\n",
       "   'pol': {'official': 'Republika Bułgarii', 'common': 'Bułgaria'},\n",
       "   'por': {'official': 'República da Bulgária', 'common': 'Bulgária'},\n",
       "   'rus': {'official': 'Республика Болгария', 'common': 'Болгария'},\n",
       "   'slk': {'official': 'Bulharská republika', 'common': 'Bulharsko'},\n",
       "   'spa': {'official': 'República de Bulgaria', 'common': 'Bulgaria'},\n",
       "   'srp': {'official': 'Република Бугарска', 'common': 'Бугарска'},\n",
       "   'swe': {'official': 'Republiken Bulgarien', 'common': 'Bulgarien'},\n",
       "   'tur': {'official': 'Bulgaristan Cumhuriyeti', 'common': 'Bulgaristan'},\n",
       "   'urd': {'official': 'جمہوریہ بلغاریہ', 'common': 'بلغاریہ'},\n",
       "   'zho': {'official': '保加利亚共和国', 'common': '保加利亚'}},\n",
       "  'latlng': [43.0, 25.0],\n",
       "  'landlocked': False,\n",
       "  'borders': ['GRC', 'MKD', 'ROU', 'SRB', 'TUR'],\n",
       "  'area': 110879.0,\n",
       "  'demonyms': {'eng': {'f': 'Bulgarian', 'm': 'Bulgarian'},\n",
       "   'fra': {'f': 'Bulgare', 'm': 'Bulgare'}},\n",
       "  'flag': '🇧🇬',\n",
       "  'maps': {'googleMaps': 'https://goo.gl/maps/F5uAhDGWzc3BrHfm9',\n",
       "   'openStreetMaps': 'https://www.openstreetmap.org/relation/186382'},\n",
       "  'population': 6927288,\n",
       "  'gini': {'2018': 41.3},\n",
       "  'fifa': 'BUL',\n",
       "  'car': {'signs': ['BG'], 'side': 'right'},\n",
       "  'timezones': ['UTC+02:00'],\n",
       "  'continents': ['Europe'],\n",
       "  'flags': {'png': 'https://flagcdn.com/w320/bg.png',\n",
       "   'svg': 'https://flagcdn.com/bg.svg',\n",
       "   'alt': 'The flag of Bulgaria is composed of three equal horizontal bands of white, green and red.'},\n",
       "  'coatOfArms': {'png': 'https://mainfacts.com/media/images/coats_of_arms/bg.png',\n",
       "   'svg': 'https://mainfacts.com/media/images/coats_of_arms/bg.svg'},\n",
       "  'startOfWeek': 'monday',\n",
       "  'capitalInfo': {'latlng': [42.68, 23.32]},\n",
       "  'postalCode': {'format': '####', 'regex': '^(\\\\d{4})$'}}]"
      ]
     },
     "execution_count": 19,
     "metadata": {},
     "output_type": "execute_result"
    }
   ],
   "source": [
    "from pyspark.sql.types import ArrayType, StringType\n",
    "from pyspark.sql import functions as F\n",
    "import requests\n",
    "# Make a request to get information about: \"Bulgaria\", \"Germany\", \"Italy\", \"Peru\"\n",
    "country_name = \"Bulgaria\"\n",
    "response = requests.get(f\"https://restcountries.com/v3.1/name/{country_name}\")\n",
    "# Parse the response as JSON\n",
    "country_data = response.json()\n",
    "country_data\n",
    "# name , region, capital, currency, border_country_full_name"
   ]
  },
  {
   "cell_type": "code",
   "execution_count": 20,
   "id": "1ee4343b-d6bd-44c9-aa23-0ef9ee44b49a",
   "metadata": {},
   "outputs": [],
   "source": [
    "# json_rdd = spark.sparkContext.parallelize([json.dumps(country_data)])\n",
    "# df = spark.read.json(json_rdd)\n",
    "df = spark.createDataFrame(country_data)\n",
    "# df.printSchema()"
   ]
  },
  {
   "cell_type": "code",
   "execution_count": 21,
   "id": "0043121a-26b5-48ff-b97d-18baceb7c4be",
   "metadata": {},
   "outputs": [
    {
     "name": "stdout",
     "output_type": "stream",
     "text": [
      "+--------+\n",
      "|common  |\n",
      "+--------+\n",
      "|Bulgaria|\n",
      "+--------+\n",
      "\n"
     ]
    }
   ],
   "source": [
    "# name , region, capital, currency, border_country_full_name\n",
    "df.select(\"name.common\").show(truncate=False)"
   ]
  },
  {
   "cell_type": "code",
   "execution_count": 22,
   "id": "96a6a6b8-7e8b-4815-acdb-b0ea49cb87f1",
   "metadata": {},
   "outputs": [
    {
     "name": "stdout",
     "output_type": "stream",
     "text": [
      "+------+-------------+\n",
      "|   key|        value|\n",
      "+------+-------------+\n",
      "|  name|Bulgarian lev|\n",
      "|symbol|           лв|\n",
      "+------+-------------+\n",
      "\n"
     ]
    }
   ],
   "source": [
    "df_currencies = df.select(explode(col(\"currencies\")))\n",
    "df_currencies = df_currencies.select(explode(col(\"value\")))\n",
    "df_currencies.show()\n",
    "# currency_name = df_currencies.first()['value']\n",
    "# currency_name"
   ]
  },
  {
   "cell_type": "code",
   "execution_count": 23,
   "id": "db24749a-7d72-45cd-a4da-944d4fe1c057",
   "metadata": {},
   "outputs": [
    {
     "name": "stdout",
     "output_type": "stream",
     "text": [
      "+------+-------------+\n",
      "|   key|        value|\n",
      "+------+-------------+\n",
      "|  name|Bulgarian lev|\n",
      "|symbol|           лв|\n",
      "+------+-------------+\n",
      "\n"
     ]
    }
   ],
   "source": [
    "df_currencies.show()"
   ]
  },
  {
   "cell_type": "code",
   "execution_count": 24,
   "id": "54ac6038-fc0a-4186-ae24-9a1bfdfb37f2",
   "metadata": {},
   "outputs": [],
   "source": [
    "import pyspark.sql.functions as f\n",
    "def getCountryName(country):\n",
    "    print(country)\n",
    "    response = requests.get(f\"https://restcountries.com/v3.1/alpha/{country}\")\n",
    "    # Parse the response as JSON\n",
    "    data = response.json()\n",
    "    print(data)\n",
    "    return data[0]['name']['common'];"
   ]
  },
  {
   "cell_type": "code",
   "execution_count": 25,
   "id": "c7a9a149-e38a-484e-b653-c0b4a58c2072",
   "metadata": {},
   "outputs": [
    {
     "name": "stdout",
     "output_type": "stream",
     "text": [
      "+--------+------+-------+--------------------+\n",
      "|  common|region|capital|             borders|\n",
      "+--------+------+-------+--------------------+\n",
      "|Bulgaria|Europe|[Sofia]|[GRC, MKD, ROU, S...|\n",
      "+--------+------+-------+--------------------+\n",
      "\n"
     ]
    }
   ],
   "source": [
    "from pyspark.sql.functions import explode\n",
    "df = df.select(\"name.common\",\"region\",\"capital\",\"borders\")\n",
    "df.show()"
   ]
  },
  {
   "cell_type": "code",
   "execution_count": 26,
   "id": "e13af535-e2b8-4dbf-99d2-3d81f19ff193",
   "metadata": {},
   "outputs": [
    {
     "name": "stdout",
     "output_type": "stream",
     "text": [
      "BUL\n",
      "[{'name': {'common': 'Bulgaria', 'official': 'Republic of Bulgaria', 'nativeName': {'bul': {'official': 'Република България', 'common': 'България'}}}, 'tld': ['.bg'], 'cca2': 'BG', 'ccn3': '100', 'cca3': 'BGR', 'cioc': 'BUL', 'independent': True, 'status': 'officially-assigned', 'unMember': True, 'currencies': {'BGN': {'name': 'Bulgarian lev', 'symbol': 'лв'}}, 'idd': {'root': '+3', 'suffixes': ['59']}, 'capital': ['Sofia'], 'altSpellings': ['BG', 'Republic of Bulgaria', 'Република България'], 'region': 'Europe', 'subregion': 'Southeast Europe', 'languages': {'bul': 'Bulgarian'}, 'translations': {'ara': {'official': 'جمهورية بلغاريا', 'common': 'بلغاريا'}, 'bre': {'official': 'Republik Bulgaria', 'common': 'Bulgaria'}, 'ces': {'official': 'Bulharská republika', 'common': 'Bulharsko'}, 'cym': {'official': 'Gweriniaeth Bwlgaria', 'common': 'Bwlgaria'}, 'deu': {'official': 'Republik Bulgarien', 'common': 'Bulgarien'}, 'est': {'official': 'Bulgaaria Vabariik', 'common': 'Bulgaaria'}, 'fin': {'official': 'Bulgarian tasavalta', 'common': 'Bulgaria'}, 'fra': {'official': 'République de Bulgarie', 'common': 'Bulgarie'}, 'hrv': {'official': 'Republika Bugarska', 'common': 'Bugarska'}, 'hun': {'official': 'Bolgár Köztársaság', 'common': 'Bulgária'}, 'ita': {'official': 'Repubblica di Bulgaria', 'common': 'Bulgaria'}, 'jpn': {'official': 'ブルガリア共和国', 'common': 'ブルガリア'}, 'kor': {'official': '불가리아 공화국', 'common': '불가리아'}, 'nld': {'official': 'Republiek Bulgarije', 'common': 'Bulgarije'}, 'per': {'official': 'جمهوری بلغارستان', 'common': 'بلغارستان'}, 'pol': {'official': 'Republika Bułgarii', 'common': 'Bułgaria'}, 'por': {'official': 'República da Bulgária', 'common': 'Bulgária'}, 'rus': {'official': 'Республика Болгария', 'common': 'Болгария'}, 'slk': {'official': 'Bulharská republika', 'common': 'Bulharsko'}, 'spa': {'official': 'República de Bulgaria', 'common': 'Bulgaria'}, 'srp': {'official': 'Република Бугарска', 'common': 'Бугарска'}, 'swe': {'official': 'Republiken Bulgarien', 'common': 'Bulgarien'}, 'tur': {'official': 'Bulgaristan Cumhuriyeti', 'common': 'Bulgaristan'}, 'urd': {'official': 'جمہوریہ بلغاریہ', 'common': 'بلغاریہ'}, 'zho': {'official': '保加利亚共和国', 'common': '保加利亚'}}, 'latlng': [43.0, 25.0], 'landlocked': False, 'borders': ['GRC', 'MKD', 'ROU', 'SRB', 'TUR'], 'area': 110879.0, 'demonyms': {'eng': {'f': 'Bulgarian', 'm': 'Bulgarian'}, 'fra': {'f': 'Bulgare', 'm': 'Bulgare'}}, 'flag': '🇧🇬', 'maps': {'googleMaps': 'https://goo.gl/maps/F5uAhDGWzc3BrHfm9', 'openStreetMaps': 'https://www.openstreetmap.org/relation/186382'}, 'population': 6927288, 'gini': {'2018': 41.3}, 'fifa': 'BUL', 'car': {'signs': ['BG'], 'side': 'right'}, 'timezones': ['UTC+02:00'], 'continents': ['Europe'], 'flags': {'png': 'https://flagcdn.com/w320/bg.png', 'svg': 'https://flagcdn.com/bg.svg', 'alt': 'The flag of Bulgaria is composed of three equal horizontal bands of white, green and red.'}, 'coatOfArms': {'png': 'https://mainfacts.com/media/images/coats_of_arms/bg.png', 'svg': 'https://mainfacts.com/media/images/coats_of_arms/bg.svg'}, 'startOfWeek': 'monday', 'capitalInfo': {'latlng': [42.68, 23.32]}, 'postalCode': {'format': '####', 'regex': '^(\\\\d{4})$'}}]\n"
     ]
    },
    {
     "data": {
      "text/plain": [
       "str"
      ]
     },
     "execution_count": 26,
     "metadata": {},
     "output_type": "execute_result"
    }
   ],
   "source": [
    "name = getCountryName(\"BUL\")\n",
    "type(name)"
   ]
  },
  {
   "cell_type": "code",
   "execution_count": 27,
   "id": "e2a0ab5d-0fca-4dc4-8bc0-c7b57f2e55cd",
   "metadata": {},
   "outputs": [
    {
     "name": "stdout",
     "output_type": "stream",
     "text": [
      "+--------+------+-------+--------------------+\n",
      "|  common|region|capital|             borders|\n",
      "+--------+------+-------+--------------------+\n",
      "|Bulgaria|Europe|[Sofia]|[GRC, MKD, ROU, S...|\n",
      "+--------+------+-------+--------------------+\n",
      "\n"
     ]
    }
   ],
   "source": [
    "df.show()"
   ]
  },
  {
   "cell_type": "markdown",
   "id": "219df1d5-840e-4fac-9737-48512ee42212",
   "metadata": {},
   "source": [
    "# Apply transformations on boarders and capital columns"
   ]
  },
  {
   "cell_type": "code",
   "execution_count": 28,
   "id": "59f3ed8d-07e4-49ff-b4f9-1bcd34e99e8f",
   "metadata": {},
   "outputs": [],
   "source": [
    "df = df.withColumn(\"borders\" , explode(\"borders\"))\n",
    "df = df.withColumn(\"capital\" , explode(\"capital\"))\n",
    "custom_getCountryName = F.udf(getCountryName, StringType())\n",
    "df = df.withColumn('borders', custom_getCountryName(df.borders))"
   ]
  },
  {
   "cell_type": "code",
   "execution_count": 29,
   "id": "7b9d8a16-a87c-4a50-b6f9-b952b047f670",
   "metadata": {},
   "outputs": [
    {
     "name": "stdout",
     "output_type": "stream",
     "text": [
      "+--------+------+-------+---------------+\n",
      "|  common|region|capital|        borders|\n",
      "+--------+------+-------+---------------+\n",
      "|Bulgaria|Europe|  Sofia|         Greece|\n",
      "|Bulgaria|Europe|  Sofia|North Macedonia|\n",
      "|Bulgaria|Europe|  Sofia|        Romania|\n",
      "|Bulgaria|Europe|  Sofia|         Serbia|\n",
      "|Bulgaria|Europe|  Sofia|         Turkey|\n",
      "+--------+------+-------+---------------+\n",
      "\n"
     ]
    }
   ],
   "source": [
    "df.show()"
   ]
  },
  {
   "cell_type": "code",
   "execution_count": 30,
   "id": "e6737980-8591-4b70-acc6-56205cdf9dfa",
   "metadata": {},
   "outputs": [
    {
     "name": "stdout",
     "output_type": "stream",
     "text": [
      "+--------+------+-------+--------------------------------------------------+\n",
      "|common  |region|capital|borders                                           |\n",
      "+--------+------+-------+--------------------------------------------------+\n",
      "|Bulgaria|Europe|Sofia  |[North Macedonia, Serbia, Greece, Turkey, Romania]|\n",
      "+--------+------+-------+--------------------------------------------------+\n",
      "\n"
     ]
    }
   ],
   "source": [
    "df = df.groupby(\"common\",\"region\",\"capital\").agg(F.collect_set(\"borders\").alias(\"borders\"))\n",
    "# df=df.withColumnRenamed(\"collect_set(borders)\",\"borders\")\n",
    "df.show(truncate=False)"
   ]
  },
  {
   "cell_type": "markdown",
   "id": "f2979d34-0b9d-435b-a2d3-527ec95caa16",
   "metadata": {},
   "source": [
    "# Make the code reusable"
   ]
  },
  {
   "cell_type": "code",
   "execution_count": 36,
   "id": "4ed8cab2-4591-4dc9-9187-d80288d5712e",
   "metadata": {},
   "outputs": [
    {
     "name": "stdout",
     "output_type": "stream",
     "text": [
      "Bulgaria\n",
      "+--------+------+-------+-------------+--------------------------------------------------+\n",
      "|name    |region|capital|currency     |borders                                           |\n",
      "+--------+------+-------+-------------+--------------------------------------------------+\n",
      "|Bulgaria|Europe|Sofia  |Bulgarian lev|[North Macedonia, Serbia, Greece, Turkey, Romania]|\n",
      "+--------+------+-------+-------------+--------------------------------------------------+\n",
      "\n",
      "Germany\n",
      "+-------+------+-------+--------+------------------------------------------------------------------------------------------+\n",
      "|name   |region|capital|currency|borders                                                                                   |\n",
      "+-------+------+-------+--------+------------------------------------------------------------------------------------------+\n",
      "|Germany|Europe|Berlin |Euro    |[France, Austria, Poland, Denmark, Switzerland, Luxembourg, Netherlands, Czechia, Belgium]|\n",
      "+-------+------+-------+--------+------------------------------------------------------------------------------------------+\n",
      "\n",
      "Italy\n",
      "+-----+------+-------+--------+------------------------------------------------------------------+\n",
      "|name |region|capital|currency|borders                                                           |\n",
      "+-----+------+-------+--------+------------------------------------------------------------------+\n",
      "|Italy|Europe|Rome   |Euro    |[France, Austria, Slovenia, Switzerland, Vatican City, San Marino]|\n",
      "+-----+------+-------+--------+------------------------------------------------------------------+\n",
      "\n",
      "Peru\n",
      "+----+--------+-------+------------+-------------------------------------------+\n",
      "|name|region  |capital|currency    |borders                                    |\n",
      "+----+--------+-------+------------+-------------------------------------------+\n",
      "|Peru|Americas|Lima   |Peruvian sol|[Bolivia, Brazil, Ecuador, Colombia, Chile]|\n",
      "+----+--------+-------+------------+-------------------------------------------+\n",
      "\n"
     ]
    }
   ],
   "source": [
    "from pyspark.sql.functions import explode\n",
    "# Make a request to get information about: \"Bulgaria\", \"Germany\", \"Italy\", \"Peru\"\n",
    "# Parse the response as JSON\n",
    "country_data\n",
    "\n",
    "def getCountryData(country):\n",
    "    response = requests.get(f\"https://restcountries.com/v3.1/name/{country}\")\n",
    "    return response.json();\n",
    "\n",
    "\n",
    "def getCountryName(country):\n",
    "    print(country)\n",
    "    response = requests.get(f\"https://restcountries.com/v3.1/alpha/{country}\")\n",
    "    # Parse the response as JSON\n",
    "    data = response.json()\n",
    "    print(data)\n",
    "    return data[0]['name']['common'];\n",
    "\n",
    "def extractCurrencyName(df):\n",
    "    df = df.select(explode(col(\"currencies\")))\n",
    "    df = df.select(explode(col(\"value\")))\n",
    "    return df.first()['value']\n",
    "\n",
    "def prepareDataFrame(country_data):\n",
    "    df = spark.createDataFrame(country_data)\n",
    "    currency_name = extractCurrencyName(df)\n",
    "    df = df.select(col(\"name.common\").alias(\"name\"),\"region\",\"capital\",\"borders\")\n",
    "    df = df.withColumn(\"borders\" , explode(\"borders\"))\n",
    "    df = df.withColumn(\"capital\" , explode(\"capital\"))\n",
    "    df = df.withColumn(\"currency\" , lit(currency_name))\n",
    "    custom_getCountryName = F.udf(getCountryName, StringType())\n",
    "    df = df.withColumn('borders', custom_getCountryName(df.borders))\n",
    "    return df.groupby(\"name\",\"region\",\"capital\",\"currency\").agg(F.collect_set(\"borders\").alias(\"borders\"));\n",
    "\n",
    "def showCountryData(country_list):\n",
    "    for country in country_list:\n",
    "        print(country)\n",
    "        country_data = getCountryData(country)\n",
    "        country_df = prepareDataFrame(country_data)\n",
    "        country_df.show(truncate=False)\n",
    "\n",
    "\n",
    "country_list = [\"Bulgaria\", \"Germany\", \"Italy\", \"Peru\"]\n",
    "showCountryData(country_list)"
   ]
  },
  {
   "cell_type": "code",
   "execution_count": null,
   "id": "1d10fac8-9aa4-409c-92d1-cd1beb0b3e97",
   "metadata": {},
   "outputs": [],
   "source": [
    "df.show()"
   ]
  }
 ],
 "metadata": {
  "kernelspec": {
   "display_name": "Python 3",
   "language": "python",
   "name": "python3"
  },
  "language_info": {
   "codemirror_mode": {
    "name": "ipython",
    "version": 3
   },
   "file_extension": ".py",
   "mimetype": "text/x-python",
   "name": "python",
   "nbconvert_exporter": "python",
   "pygments_lexer": "ipython3",
   "version": "3.8.8"
  }
 },
 "nbformat": 4,
 "nbformat_minor": 5
}
